{
 "cells": [
  {
   "cell_type": "markdown",
   "id": "76b85601-021d-4909-b33e-91daf32508bf",
   "metadata": {},
   "source": [
    "# Data Science Tools and Ecosystem"
   ]
  },
  {
   "cell_type": "markdown",
   "id": "6b83cfa3-6e8e-440a-8c58-029336f05062",
   "metadata": {},
   "source": [
    "In this notebook, Data Science Tools and Ecosystem are summarized."
   ]
  },
  {
   "cell_type": "markdown",
   "id": "ee821e1d-b2a4-40c5-bdd8-d818f849a9d1",
   "metadata": {},
   "source": [
    "__Objectives:__\n",
    "- Julia\n",
    "- Python\n",
    "- R\n",
    "- C++\n",
    "- Scala"
   ]
  },
  {
   "cell_type": "markdown",
   "id": "60d548f9-b10b-4d64-b55b-74a806fd66c9",
   "metadata": {},
   "source": [
    "Some of the popular languages that Data Scientists use are:\n",
    "1. Python\n",
    "2. R\n",
    "3. Julia"
   ]
  },
  {
   "cell_type": "markdown",
   "id": "9a472dca-2cd9-47c8-b006-516b1043bc74",
   "metadata": {},
   "source": [
    "Some of the commonly used libraries used by Data Scientists include:\n",
    "1. Pandas\n",
    "2. Numpy\n",
    "3. PyTorch"
   ]
  },
  {
   "cell_type": "markdown",
   "id": "ba9c99e5-f287-4a30-8a40-fddaba9ba825",
   "metadata": {},
   "source": [
    "| Data Science Tools |\n",
    "| ------------------ |\n",
    "| Keras |\n",
    "| Matplotlib |\n",
    "| NLTK |"
   ]
  },
  {
   "cell_type": "markdown",
   "id": "cfca80d7-2324-40ca-94c6-bb992046316b",
   "metadata": {},
   "source": [
    "### Below are a few examples of evaluating arithmetic expressions in Python"
   ]
  },
  {
   "cell_type": "code",
   "execution_count": 1,
   "id": "68399b05-b97e-4b06-a7c8-af1d5234eab1",
   "metadata": {
    "tags": []
   },
   "outputs": [
    {
     "data": {
      "text/plain": [
       "17"
      ]
     },
     "execution_count": 1,
     "metadata": {},
     "output_type": "execute_result"
    }
   ],
   "source": [
    "# This a simple arithmetic expression to mutiply then add integers\n",
    "(3*4)+5"
   ]
  },
  {
   "cell_type": "code",
   "execution_count": 4,
   "id": "d76ca6c5-8df3-4b4d-b9fb-22153af1f355",
   "metadata": {
    "tags": []
   },
   "outputs": [
    {
     "name": "stdout",
     "output_type": "stream",
     "text": [
      "200 minutes is equal to 3.3333333333333335 hours\n"
     ]
    }
   ],
   "source": [
    "# This will convert 200 minutes to hours by diving by 60\n",
    "minutes = 200\n",
    "hours = minutes/60\n",
    "print(\"200 minutes is equal to {} hours\".format(hours))"
   ]
  },
  {
   "cell_type": "markdown",
   "id": "7aba36e1-210b-4003-9d99-e089a265d4a8",
   "metadata": {},
   "source": [
    "## Author\n",
    "Mrunmay Rajgire"
   ]
  },
  {
   "cell_type": "code",
   "execution_count": null,
   "id": "6cf61ea1-6e2b-4450-93bc-8a4b490b11f4",
   "metadata": {},
   "outputs": [],
   "source": []
  }
 ],
 "metadata": {
  "kernelspec": {
   "display_name": "Python",
   "language": "python",
   "name": "conda-env-python-py"
  },
  "language_info": {
   "codemirror_mode": {
    "name": "ipython",
    "version": 3
   },
   "file_extension": ".py",
   "mimetype": "text/x-python",
   "name": "python",
   "nbconvert_exporter": "python",
   "pygments_lexer": "ipython3",
   "version": "3.7.12"
  }
 },
 "nbformat": 4,
 "nbformat_minor": 5
}
